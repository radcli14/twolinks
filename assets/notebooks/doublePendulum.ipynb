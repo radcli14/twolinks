{
 "cells": [
  {
   "cell_type": "markdown",
   "metadata": {},
   "source": [
    "# Double Trouble Pendulum"
   ]
  },
  {
   "cell_type": "code",
   "execution_count": null,
   "metadata": {},
   "outputs": [],
   "source": [
    "from sympy import *\n",
    "from sympy.physics.mechanics import *\n",
    "from math import pi\n",
    "from scipy.integrate import solve_ivp\n",
    "import numpy as np\n",
    "from IPython.display import display\n",
    "mechanics_printing()\n",
    "import matplotlib.pyplot as plt"
   ]
  },
  {
   "cell_type": "markdown",
   "metadata": {},
   "source": [
    "## Create Symbols"
   ]
  },
  {
   "cell_type": "code",
   "execution_count": null,
   "metadata": {},
   "outputs": [],
   "source": [
    "q = dynamicsymbols('\\\\theta_0, \\\\theta_1')  # Generalized coordinates (angles)\n",
    "u = dynamicsymbols('\\\\omega_0, \\\\omega_1')  # Generalized speeds (rates)\n",
    "l0, w0, l1, w1 = symbols('l_0, w_0, l_1, w_1')  # Lengths and widths\n",
    "m0, m1, I0, I1 = symbols('m_0, m_1, I_0, I_1')  # Masses and inertias\n",
    "a, b, c = symbols('a, b, c')  # Distances relating pivot points and bodies\n",
    "g, gx, gy = symbols('g, g_x, g_y')  # Gravitational acceleration\n",
    "t = symbols('t')  # Time"
   ]
  },
  {
   "cell_type": "markdown",
   "metadata": {},
   "source": [
    "## Create Initial Values and Constant Values"
   ]
  },
  {
   "cell_type": "code",
   "execution_count": null,
   "metadata": {},
   "outputs": [],
   "source": [
    "q0 = 44*pi/180, 44*pi/180  # radians\n",
    "u0 = 0.0, 0.0  # radians/second\n",
    "constants = {\n",
    "    l0: 0.2,  #0.2794,\n",
    "    w0: 0.0508,\n",
    "    l1: 0.15,  #0.2286,\n",
    "    w1: 0.0508,\n",
    "    m0: 0.1,  # 0.080,\n",
    "    m1: 0.1,  # 0.066,\n",
    "    I0: 5e-6,  # 537.6e-6,\n",
    "    I1: 5e-6,  # 301.6e-6,\n",
    "    a: 0.2,  # 0.1016,  # Origin to outer pivot\n",
    "    b: 0.1,  # 0.1397,  # Origin to inner link CG\n",
    "    c: 0.075,  # 0.1016,  # Outer pivot to outer link CG\n",
    "    g: 9.8,\n",
    "    gy: 9.8,\n",
    "    gx: 0.0\n",
    "}"
   ]
  },
  {
   "cell_type": "markdown",
   "metadata": {},
   "source": [
    "## Create Kinematic Equations"
   ]
  },
  {
   "cell_type": "code",
   "execution_count": null,
   "metadata": {},
   "outputs": [],
   "source": [
    "kd = [speed - diff(coord) for coord, speed in zip(q, u)]\n",
    "display(Matrix(kd))"
   ]
  },
  {
   "cell_type": "markdown",
   "metadata": {},
   "source": [
    "## Create Frames"
   ]
  },
  {
   "cell_type": "code",
   "execution_count": null,
   "metadata": {},
   "outputs": [],
   "source": [
    "inertial = ReferenceFrame('N')\n",
    "\n",
    "innerFrame = inertial.orientnew('D', 'axis', [q[0], inertial.z])\n",
    "outerFrame = inertial.orientnew('E', 'axis', [q[1], inertial.z])\n",
    "\n",
    "innerFrame.set_ang_vel(inertial, u[0] * inertial.z)\n",
    "outerFrame.set_ang_vel(inertial, u[1] * inertial.z)\n",
    "\n",
    "display(outerFrame.dcm(inertial))\n",
    "display(outerFrame.ang_vel_in(inertial))"
   ]
  },
  {
   "cell_type": "markdown",
   "metadata": {},
   "source": [
    "## Create Points"
   ]
  },
  {
   "cell_type": "code",
   "execution_count": null,
   "metadata": {},
   "outputs": [],
   "source": [
    "origin = Point('O')\n",
    "origin.set_vel(inertial, Vector(0))\n",
    "\n",
    "outerPivot = origin.locatenew('A', a * innerFrame.x)\n",
    "innerCG = origin.locatenew('B', b * innerFrame.x)\n",
    "outerCG = outerPivot.locatenew('C', c * outerFrame.x)\n",
    "innerEnd = innerCG.locatenew('D', 0.5 * l0 * innerFrame.x)\n",
    "outerEnd = outerCG.locatenew('E', 0.5 * l1 * outerFrame.x)\n",
    "\n",
    "outerPivot.v2pt_theory(origin, inertial, innerFrame)\n",
    "innerCG.v2pt_theory(origin, inertial, innerFrame)\n",
    "outerCG.v2pt_theory(outerPivot, inertial, outerFrame)\n",
    "\n",
    "display(innerCG.pos_from(origin))\n",
    "display(innerCG.vel(inertial))\n",
    "display(outerCG.pos_from(origin))\n",
    "display(outerCG.vel(inertial))\n",
    "display(outerCG.pos_from(origin).to_matrix(inertial))"
   ]
  },
  {
   "cell_type": "markdown",
   "metadata": {},
   "source": [
    "## Create Bodies"
   ]
  },
  {
   "cell_type": "code",
   "execution_count": null,
   "metadata": {},
   "outputs": [],
   "source": [
    "innerBody = Body('IB', masscenter=innerCG, mass=m0, frame=innerFrame, central_inertia=inertia(innerFrame, 0, 0, I0))\n",
    "outerBody = Body('OB', masscenter=outerCG, mass=m1, frame=outerFrame, central_inertia=inertia(outerFrame, 0, 0, I1))\n",
    "bodies = innerBody, outerBody"
   ]
  },
  {
   "cell_type": "markdown",
   "metadata": {},
   "source": [
    "## Create Gravitational Load"
   ]
  },
  {
   "cell_type": "code",
   "execution_count": null,
   "metadata": {},
   "outputs": [],
   "source": [
    "gvector = gx * inertial.x - gy * inertial.y\n",
    "loads = [\n",
    "  (innerBody.masscenter, innerBody.mass * gvector),\n",
    "  (outerBody.masscenter, outerBody.mass * gvector)\n",
    "]"
   ]
  },
  {
   "cell_type": "markdown",
   "metadata": {},
   "source": [
    "## Generate Equations of Motion"
   ]
  },
  {
   "cell_type": "code",
   "execution_count": null,
   "metadata": {},
   "outputs": [],
   "source": [
    "kane = KanesMethod(inertial, q, u, kd)\n",
    "fr, frstar = kane.kanes_equations(bodies, loads)"
   ]
  },
  {
   "cell_type": "markdown",
   "metadata": {},
   "source": [
    "## Get the Simplified Mass Matrix"
   ]
  },
  {
   "cell_type": "code",
   "execution_count": null,
   "metadata": {},
   "outputs": [],
   "source": [
    "M = simplify(kane.mass_matrix_full)\n",
    "display(M)"
   ]
  },
  {
   "cell_type": "markdown",
   "metadata": {},
   "source": [
    "## Get the Simplified Forcing Vector"
   ]
  },
  {
   "cell_type": "code",
   "execution_count": null,
   "metadata": {},
   "outputs": [],
   "source": [
    "F = simplify(kane.forcing_full)\n",
    "display(F)"
   ]
  },
  {
   "cell_type": "markdown",
   "metadata": {},
   "source": [
    "## Create the Initial Value Problem (IVP)"
   ]
  },
  {
   "cell_type": "code",
   "execution_count": null,
   "metadata": {},
   "outputs": [],
   "source": [
    "massFunction = lambdify(q+u, M.subs(constants))\n",
    "forcingFunction = lambdify(q+u, F.subs(constants))\n",
    "def fun(t, x):\n",
    "  mass = massFunction(*x)\n",
    "  force = forcingFunction(*x)\n",
    "  dxdt = np.linalg.inv(mass) @ force\n",
    "  return dxdt[:, 0].tolist()"
   ]
  },
  {
   "cell_type": "markdown",
   "metadata": {},
   "source": [
    "## Solve the IVP"
   ]
  },
  {
   "cell_type": "code",
   "execution_count": null,
   "metadata": {},
   "outputs": [],
   "source": [
    "sol = solve_ivp(fun, [0, 1.75], q0+u0, rtol=1e-9)"
   ]
  },
  {
   "cell_type": "markdown",
   "metadata": {},
   "source": [
    "## Plot Angles and Rates"
   ]
  },
  {
   "cell_type": "code",
   "execution_count": null,
   "metadata": {},
   "outputs": [],
   "source": [
    "plt.subplot(2, 1, 1);\n",
    "plt.plot(sol.t, sol.y[:2].transpose());\n",
    "plt.ylabel('Angle [rad]');\n",
    "plt.legend([f'${angle}$' for angle in q], ncol=2);\n",
    "\n",
    "plt.subplot(2, 1, 2);\n",
    "plt.plot(sol.t, sol.y[2:].transpose());\n",
    "plt.xlabel('Time [sec]')\n",
    "plt.ylabel('Rate [rad/s]');\n",
    "plt.legend([f'${rate}$' for rate in u], ncol=2);"
   ]
  },
  {
   "cell_type": "markdown",
   "metadata": {},
   "source": [
    "## Plot X-Y Position"
   ]
  },
  {
   "cell_type": "code",
   "execution_count": null,
   "metadata": {},
   "outputs": [],
   "source": [
    "innerPosFcn = lambdify(q, innerEnd.pos_from(origin).to_matrix(inertial).transpose().subs(constants).tolist()[0])\n",
    "outerPosFcn = lambdify(q, outerEnd.pos_from(origin).to_matrix(inertial).transpose().subs(constants).tolist()[0])\n",
    "\n",
    "innerPos = np.array([innerPosFcn(*q) for q in sol.y[:2].transpose()])\n",
    "outerPos = np.array([outerPosFcn(*q) for q in sol.y[:2].transpose()])\n",
    "\n",
    "plt.plot(innerPos[:, 0], innerPos[:, 1]);\n",
    "plt.scatter(outerPos[:, 0], outerPos[:, 1], \n",
    "            s=8*sol.t*3.14, c=sol.t, cmap='rainbow');\n",
    "plt.axis('off');\n",
    "plt.xlim([-0.5, 0.5])\n",
    "plt.tight_layout;\n",
    "\n",
    "plt.savefig('links.pdf')"
   ]
  }
 ],
 "metadata": {
  "kernelspec": {
   "display_name": "Python 3",
   "language": "python",
   "name": "python3"
  },
  "language_info": {
   "codemirror_mode": {
    "name": "ipython",
    "version": 3
   },
   "file_extension": ".py",
   "mimetype": "text/x-python",
   "name": "python",
   "nbconvert_exporter": "python",
   "pygments_lexer": "ipython3",
   "version": "3.7.3"
  }
 },
 "nbformat": 4,
 "nbformat_minor": 4
}
