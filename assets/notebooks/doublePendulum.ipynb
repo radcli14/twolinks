{
 "cells": [
  {
   "cell_type": "markdown",
   "metadata": {},
   "source": [
    "# Double Trouble Pendulum\n",
    "\n",
    "The `SwiftyTwoLinks` and `KotlyOtlyDobleDosLinks` apps, or _TwoLinks_ in short, embed a custom motion simulation that solves a systems of dynamic equations for a double pendulum.\n",
    "This Jupyter Notebook demonstrates how those equations may be determined using the `sympy.physics.mechanics` toolkit.\n",
    "Each step of the process including importing required modules, defining symbolic constants and variables, defining translational and rotational kinematics, deriving equations of motion, and simulating is included.\n",
    "Furthermore, the `matplotlib` visualisation module is used to plot states, and create a plot that is used in the application icon.\n",
    "\n",
    "## Preliminaries\n",
    "\n",
    "The following modules are imported below, with their summary usage:\n",
    " - `sympy` for symbolic algebra\n",
    " - `sympy.physics.mechanics` for kinematics and equation of motion derivation\n",
    " - `scipy.integrate` for simulating the system of differential equations\n",
    " - `numpy` for array manipulation\n",
    " - `IPython.display` for rendering equations\n",
    " - `matplotlib.pyplot` for plotting"
   ]
  },
  {
   "cell_type": "code",
   "execution_count": null,
   "metadata": {},
   "outputs": [],
   "source": [
    "from sympy import *\n",
    "from sympy.physics.mechanics import *\n",
    "from scipy.integrate import solve_ivp\n",
    "import numpy as np\n",
    "from IPython.display import display, Latex\n",
    "import matplotlib.pyplot as plt"
   ]
  },
  {
   "cell_type": "markdown",
   "metadata": {},
   "source": [
    "The `mechanics_printing()` function is part of `sympy.physics.mechanics`. \n",
    "It reduces verbosity of the typeset equation by eliminating $(t)$ from time dependent symbolic terms, and representing time-derivatives by an overdot $\\dot{(\\, \\,)}$ instead of $\\partial / \\partial t$.\n",
    "Once it is called as a function, as it is below, these conventions will be followed anytime the `display` function is invoked."
   ]
  },
  {
   "cell_type": "code",
   "execution_count": null,
   "metadata": {},
   "outputs": [],
   "source": [
    "mechanics_printing()"
   ]
  },
  {
   "cell_type": "markdown",
   "metadata": {},
   "source": [
    "The function `dtex` is defined below to display LaTeX formatted equations with an equals sign separating left and right hand sides, either taking text-formatted inputs that the user defines, or symbolic equations derived by `sympy`.\n",
    "Its intent is generally that the user may typeset a concise symbol on the left hand side, and the coinciding equation on the right.\n",
    "It takes a variable number of arguments."
   ]
  },
  {
   "cell_type": "code",
   "execution_count": null,
   "metadata": {},
   "outputs": [],
   "source": [
    "def dtex(*args):\n",
    "    tex = ''\n",
    "    for arg in args:\n",
    "        if isinstance(arg, str):\n",
    "            # Handle string arguments\n",
    "            tex += f'${arg}$ $\\, = \\,$ '\n",
    "        else:\n",
    "            # Handle SymPy arguments\n",
    "            tex += f'${mlatex(arg)}$ $\\, = \\,$ '\n",
    "    \n",
    "    # Trim off the last equals sign\n",
    "    tex = tex[:-10]  \n",
    "    display(Latex(tex))    "
   ]
  },
  {
   "cell_type": "markdown",
   "metadata": {},
   "source": [
    "## Modeling\n",
    "\n",
    "Below the requisite kinematics and equations of motion are developed symbolically. The derivation will use the dimensions, frames, and points defined in the graphic below, which will be described in further detail in the sections to follow.\n",
    "\n",
    "![Model Diagram](https://radcli14.github.io/resume/images/twolinks.png)\n",
    "\n",
    "### Symbols\n",
    "\n",
    "For a double pendulum, we define two angles, $\\theta_a$ and $\\theta_b$, and two angular rates, $\\omega_a$ and $\\omega_b$, where the subscript $a$ represents the first link, and the subscript $b$ represents the second link.\n",
    "In `sympy.physics.mechanics` we create the time-varying states using the `dynamicsymbols` function, with a list of symbolic terms in string form as the argument.\n",
    "The vectors $\\boldsymbol{q}$ and $\\boldsymbol{u}$ represent generalized coordinates and generalized speeds, in radians and radians/sec, respectively.\n",
    "For rendering symbols, LaTeX syntax may be used to specify greek characters, in this case `\\theta` and `\\omega` for $\\theta$ and $\\omega$, with the character `r` for \"raw\" placed in front of the string to prevent the `\\` from acting as an escaping character."
   ]
  },
  {
   "cell_type": "code",
   "execution_count": null,
   "metadata": {},
   "outputs": [],
   "source": [
    "q = dynamicsymbols(r'\\theta_a \\theta_b')\n",
    "u = dynamicsymbols(r'\\omega_a \\omega_b')\n",
    "dtex(r'\\boldsymbol{q}', q)\n",
    "dtex(r'\\boldsymbol{u}', u)"
   ]
  },
  {
   "cell_type": "markdown",
   "metadata": {},
   "source": [
    "Initial values are given to these coordinates and speeds to be used in the simulation that follows at the end of the notebook.\n",
    "In this case, the setup is for the links to be initially held stationary at near vertical angle, then dropped with initially zero angular velocity."
   ]
  },
  {
   "cell_type": "code",
   "execution_count": null,
   "metadata": {},
   "outputs": [],
   "source": [
    "q0 = np.deg2rad(44), np.deg2rad(44)\n",
    "u0 = 0.0, 0.0"
   ]
  },
  {
   "cell_type": "markdown",
   "metadata": {},
   "source": [
    "Several symbolic constants are defined for the link dimensions, mass, gravity, and time.\n",
    "The $l_k$ symbols denote length, $m_k$ denote mass, and $I_k$ denote moment of inertia about the axis of rotation evaluated at the link center of gravity (CG).\n",
    "The dimensions $x_a$ and $x_b$ represent distances from the centers of rotation for each link to their respective CG, and the dimension $x_p$ is the distance between the two centers of rotation.\n",
    "Gravitational acceleration is given by $g_x$ and $g_y$ which are given relative to the fixed inertial frame.\n",
    "Notably, these values are replaced in _TwoLinks_ by measurements from the device's internal accelerometer."
   ]
  },
  {
   "cell_type": "code",
   "execution_count": null,
   "metadata": {},
   "outputs": [],
   "source": [
    "la, lb = symbols('l_a l_b')\n",
    "ma, mb = symbols('m_a m_b')\n",
    "Ia, Ib = symbols('I_a I_b')\n",
    "xa, xb, xp = symbols('x_a x_b x_p')\n",
    "gx, gy = symbols('g_x g_y')"
   ]
  },
  {
   "cell_type": "markdown",
   "metadata": {},
   "source": [
    "Each constant defined above will be substituted with a numeric value prior to the simulation.\n",
    "The `.subs` method that can be applied to any symbolic equation in `sympy` can take a dictionary as an argument, in which each key in the dictionary will be replaced with its corresponding value.\n",
    "Note that the keys themselves are the symbols defined above."
   ]
  },
  {
   "cell_type": "code",
   "execution_count": null,
   "metadata": {},
   "outputs": [],
   "source": [
    "constants = {\n",
    "    la: 0.2,\n",
    "    lb: 0.15,\n",
    "    ma: 0.1,\n",
    "    mb: 0.1,\n",
    "    Ia: 5e-6,\n",
    "    Ib: 5e-6,\n",
    "    xa: 0.1,\n",
    "    xb: 0.075,\n",
    "    xp: 0.2,\n",
    "    gy: -9.8,\n",
    "    gx: 0.0\n",
    "}"
   ]
  },
  {
   "cell_type": "markdown",
   "metadata": {},
   "source": [
    "### Kinematic Equations\n",
    "\n",
    "`sympy` convention for solvers in the case of systems of equations is to rearrange such that you have vector of equations set equal to zero.\n",
    "For dynamics system modeling, the implementation of Kane's method requires that such a condition is defined that relates the generalized coordinates to the generalized speeds.\n",
    "In this case, the generalized speeds, $\\omega_k$, are simply the derivative with respect to time of the generalized coordinates, or $\\dot{\\omega}_k$.\n",
    "These are referred to as the kinematic equations, which are defined below using a Python list comprehension, with a loop defined over the lists of coordinates and speeds, with the `zip` function used to specify that the two lists will be looped simultaneously."
   ]
  },
  {
   "cell_type": "code",
   "execution_count": null,
   "metadata": {},
   "outputs": [],
   "source": [
    "kd = [speed - diff(coord) for coord, speed in zip(q, u)]\n",
    "dtex(Matrix([[0], [0]]), Matrix(kd))"
   ]
  },
  {
   "cell_type": "markdown",
   "metadata": {},
   "source": [
    "### Frames\n",
    "\n",
    "The inertial reference frame is defined from which all subsequent frames will be referenced.\n",
    "We initialize it using a `ReferenceFrame` object, which is given the name $N$.\n",
    "The second, optional argument, provides LaTeX-formatted names for the basis vectors, in this case $\\hat{\\mathbf{x}}$, $\\hat{\\mathbf{y}}$, and $\\hat{\\mathbf{z}}$."
   ]
  },
  {
   "cell_type": "code",
   "execution_count": null,
   "metadata": {},
   "outputs": [],
   "source": [
    "latexs = [r'\\hat{\\boldsymbol{' + ax + '}}' for ax in 'xyz']\n",
    "inertial = ReferenceFrame('N', latexs=latexs)"
   ]
  },
  {
   "cell_type": "markdown",
   "metadata": {},
   "source": [
    "The inner frame, which is aligned with the first link, is initialized using the `.orientnew` method of the inertial frame.\n",
    "The first argument is the name of the inner frame, $A$. The second argument defines the type of rotation to be applied, in this case `'axis'` which denotes a single angular rotation about a specified vector.\n",
    "The list that follows contains the angle $\\theta_0$ which defines rotation about the $\\hat{\\mathbf{z}}$ axis.\n",
    "Once initialized, the $A$ frame will be defined by unit vectors $\\hat{\\mathbf{a}}_x$, $\\hat{\\mathbf{a}}_y$, and $\\hat{\\mathbf{a}}_z$, which when expressed in the inertial frame are:"
   ]
  },
  {
   "cell_type": "code",
   "execution_count": null,
   "metadata": {},
   "outputs": [],
   "source": [
    "innerFrame = inertial.orientnew('A', 'axis', [q[0], inertial.z])\n",
    "for axis in (innerFrame.x, innerFrame.y, innerFrame.z):\n",
    "    dtex(axis, axis.express(inertial))"
   ]
  },
  {
   "cell_type": "markdown",
   "metadata": {},
   "source": [
    "These can similarly be expressed as the direction cosine matrix (DCM), using the `dcm` method with the inertial frame as the argument, yielding:"
   ]
  },
  {
   "cell_type": "code",
   "execution_count": null,
   "metadata": {},
   "outputs": [],
   "source": [
    "dtex(r'\\mathbf{R}_A', innerFrame.dcm(inertial))"
   ]
  },
  {
   "cell_type": "markdown",
   "metadata": {},
   "source": [
    "Finally, a vector representing the angular velocity of the inner frame must be defined.\n",
    "This is done with the `.set_ang_vel` method. The first argument to this method is the inertial frame, which the angular velocity is defined relative to, and the angular velocity vector.\n",
    "In this case using the generalized speed term $\\omega_a$ to replace the derivative of the generalized coordinate, the angular velocity vector:"
   ]
  },
  {
   "cell_type": "code",
   "execution_count": null,
   "metadata": {},
   "outputs": [],
   "source": [
    "innerFrame.set_ang_vel(inertial, u[0] * inertial.z)\n",
    "dtex(r'\\mathbf{\\omega}_A', diff(q[0]) * inertial.z, innerFrame.ang_vel_in(inertial))"
   ]
  },
  {
   "cell_type": "markdown",
   "metadata": {},
   "source": [
    "The outer frame, with the name $B$, is defined in the same manner as the inner frame, in this case using the generalized speed $\\theta_b$ for its angle relative to the inertial frame, and the generalized speed $\\omega_b$ for its angular rate."
   ]
  },
  {
   "cell_type": "code",
   "execution_count": null,
   "metadata": {},
   "outputs": [],
   "source": [
    "outerFrame = inertial.orientnew('B', 'axis', [q[1], inertial.z])\n",
    "outerFrame.set_ang_vel(inertial, u[1] * inertial.z)"
   ]
  },
  {
   "cell_type": "markdown",
   "metadata": {},
   "source": [
    "The DCM for the outer frame relative to inertial frame, $\\mathbf{R}_B$, takes the same form as $\\mathbf{R}_A$, substituting $\\theta_b$ for $\\theta_a$:"
   ]
  },
  {
   "cell_type": "code",
   "execution_count": null,
   "metadata": {},
   "outputs": [],
   "source": [
    "dtex(r'\\mathbf{R}_B', outerFrame.dcm(inertial))"
   ]
  },
  {
   "cell_type": "markdown",
   "metadata": {},
   "source": [
    "Likewise, the angular velocity vector for the outer frame relative to inertial frame, $\\mathbf{\\omega}_B$, takes the same form as $\\mathbf{\\omega}_A$, substituting $\\omega_b$ for $\\omega_a$:"
   ]
  },
  {
   "cell_type": "code",
   "execution_count": null,
   "metadata": {},
   "outputs": [],
   "source": [
    "dtex(r'\\mathbf{\\omega}_B', diff(q[1]) * inertial.z, outerFrame.ang_vel_in(inertial))"
   ]
  },
  {
   "cell_type": "markdown",
   "metadata": {},
   "source": [
    "### Points\n",
    "\n",
    "The origin represents a stationary point from which all subsequent points are defined.\n",
    "Here, it is initialized as a `Point` object with the argument specifying its name, $O$.\n",
    "The `.set_vel` method is used to specify it as having zero velocity in the inertial frame.\n",
    "Because this method requires a vector input and will throw an error if provided an integer zero, the second argument `Vector(0)` creates a zero vector."
   ]
  },
  {
   "cell_type": "code",
   "execution_count": null,
   "metadata": {},
   "outputs": [],
   "source": [
    "origin = Point('O')\n",
    "origin.set_vel(inertial, Vector(0))"
   ]
  },
  {
   "cell_type": "markdown",
   "metadata": {},
   "source": [
    "The position of the CG for the first link is the point $a$.\n",
    "This point is initialized using the `.locatenew` method, with name as the first argument, and a vector as the second argument, to give the position vector of $a$ relative to the origin:"
   ]
  },
  {
   "cell_type": "code",
   "execution_count": null,
   "metadata": {},
   "outputs": [],
   "source": [
    "innerCG = origin.locatenew('a', xa * innerFrame.x)\n",
    "dtex(r'\\mathbf{r}_a', innerCG.pos_from(origin), \n",
    "     innerCG.pos_from(origin).express(inertial))"
   ]
  },
  {
   "cell_type": "markdown",
   "metadata": {},
   "source": [
    "To specify the velocity of $a$ we call the `.v2pt_theory` method with the origin point, inertial frame, and inner frame as arguments.\n",
    "The so-called \"two-point theory\" for velocity of $a$ solves the equation\n",
    "$\\dot{\\mathbf{r}}_a = \\dot{\\mathbf{r}}_O + \\mathbf{\\omega_A} \\times \\mathbf{r}_{a/O}$, \n",
    "where $\\dot{\\mathbf{r}}_a$ is the velocity of $a$ in the inertial frame, \n",
    "$\\dot{\\mathbf{r}}_O = \\mathbf{O}$ is the velocity of the origin, \n",
    "and $\\mathbf{r}_{a/O}$ is the distance measured from the origin to $a$. \n",
    "Calling `.v2pt_theory` will also internally set the velocity vector of the object:"
   ]
  },
  {
   "cell_type": "code",
   "execution_count": null,
   "metadata": {},
   "outputs": [],
   "source": [
    "innerCG.v2pt_theory(origin, inertial, innerFrame)\n",
    "dtex(r'\\dot{\\mathbf{r}}_a', innerCG.vel(inertial))"
   ]
  },
  {
   "cell_type": "markdown",
   "metadata": {},
   "source": [
    "We may also at this point obtain the acceleration vector, with centripetal and tangential terms:"
   ]
  },
  {
   "cell_type": "code",
   "execution_count": null,
   "metadata": {},
   "outputs": [],
   "source": [
    "dtex(r'\\ddot{\\mathbf{r}}_a', innerCG.acc(inertial))"
   ]
  },
  {
   "cell_type": "markdown",
   "metadata": {},
   "source": [
    "The pivot point about which the outer link will rotate is created in much the same manner as $a$, in this case substituting the dimension $x_p$ in place of $x_a$.\n",
    "Its position, velocity, and acceleration vectors are:"
   ]
  },
  {
   "cell_type": "code",
   "execution_count": null,
   "metadata": {},
   "outputs": [],
   "source": [
    "outerPivot = origin.locatenew('p', xp * innerFrame.x)\n",
    "outerPivot.v2pt_theory(origin, inertial, innerFrame)\n",
    "dtex(r'\\mathbf{r}_p', outerPivot.pos_from(origin))\n",
    "dtex(r'\\dot{\\mathbf{r}}_p', outerPivot.vel(inertial))\n",
    "dtex(r'\\ddot{\\mathbf{r}}_p', outerPivot.acc(inertial))"
   ]
  },
  {
   "cell_type": "markdown",
   "metadata": {},
   "source": [
    "The CG of the second link is also created in a similar manner, however, where $a$ and $p$ were each defined relative to the origin, the outer link CG is defined relative to $p$.\n",
    "Its position, velocity, and acceleration vectors are:"
   ]
  },
  {
   "cell_type": "code",
   "execution_count": null,
   "metadata": {},
   "outputs": [],
   "source": [
    "outerCG = outerPivot.locatenew('b', xb * outerFrame.x)\n",
    "outerCG.v2pt_theory(outerPivot, inertial, outerFrame)\n",
    "dtex(r'\\mathbf{r}_b', outerCG.pos_from(origin))\n",
    "dtex(r'\\dot{\\mathbf{r}}_b', outerCG.vel(inertial))\n",
    "dtex(r'\\ddot{\\mathbf{r}}_b', outerCG.acc(inertial))"
   ]
  },
  {
   "cell_type": "markdown",
   "metadata": {},
   "source": [
    "Two additional points, $a^\\prime$ and $b^\\prime$, are defined that represent the ends of the two links.\n",
    "These are initialized at locations that are one half length of the respective links from the link CG, and are not required to define the dynamics model, but are used at the end of this notebook to plot the icon graphic."
   ]
  },
  {
   "cell_type": "code",
   "execution_count": null,
   "metadata": {},
   "outputs": [],
   "source": [
    "innerEnd = innerCG.locatenew('a^\\prime', 0.5 * la * innerFrame.x)\n",
    "outerEnd = outerCG.locatenew('b^\\prime', 0.5 * lb * outerFrame.x)"
   ]
  },
  {
   "cell_type": "markdown",
   "metadata": {},
   "source": [
    "### Bodies\n",
    "\n",
    "A rigid body representing the first link is created as a `Body` object.\n",
    "The required arguments are a name, the point $a$ defining the body's CG, the symbolic mass $m_a$, the frame $A$ defining orientation, and a central inertia.\n",
    "The latter requires a so-called \"inertia tuple\" which is created with the `inertia` helper function, which takes the $A$ reference frame, and inertias defined about the basis vectors of the frame.\n",
    "Since motion is restricted to be solely about the $\\hat{\\mathbf{z}} = \\hat{\\mathbf{a}}_z$ axis, we only need to provide the inertia $I_a$, which is defined about the link CG."
   ]
  },
  {
   "cell_type": "code",
   "execution_count": null,
   "metadata": {},
   "outputs": [],
   "source": [
    "innerBody = Body(\n",
    "    'A', \n",
    "    masscenter=innerCG, \n",
    "    mass=ma, \n",
    "    frame=innerFrame, \n",
    "    central_inertia=inertia(innerFrame, 0, 0, Ia)\n",
    ")"
   ]
  },
  {
   "cell_type": "markdown",
   "metadata": {},
   "source": [
    "The same approach is used to define the second link, in this case providing the point $b$, symbolic mass $m_b$, $B$ reference frame, and inertia defined about $b$ in the $B$ frame."
   ]
  },
  {
   "cell_type": "code",
   "execution_count": null,
   "metadata": {},
   "outputs": [],
   "source": [
    "outerBody = Body(\n",
    "    'B', \n",
    "    masscenter=outerCG, \n",
    "    mass=mb, \n",
    "    frame=outerFrame, \n",
    "    central_inertia=inertia(outerFrame, 0, 0, Ib)\n",
    ")"
   ]
  },
  {
   "cell_type": "markdown",
   "metadata": {},
   "source": [
    "Equation of motions derived in latter sections require the bodies to be provided as an iterable, as in the tuple below."
   ]
  },
  {
   "cell_type": "code",
   "execution_count": null,
   "metadata": {},
   "outputs": [],
   "source": [
    "bodies = innerBody, outerBody"
   ]
  },
  {
   "cell_type": "markdown",
   "metadata": {},
   "source": [
    "### Gravitational Load\n",
    "\n",
    "The gravitational acceleration vector is a combination of $g_x$ in the $\\hat{\\mathbf{x}}$ direction, and $g_y$ in the $\\hat{\\mathbf{y}}$ direction, respectively, or:"
   ]
  },
  {
   "cell_type": "code",
   "execution_count": null,
   "metadata": {},
   "outputs": [],
   "source": [
    "gvector = gx * inertial.x + gy * inertial.y\n",
    "dtex(r'\\mathbf{g}', gvector)"
   ]
  },
  {
   "cell_type": "markdown",
   "metadata": {},
   "source": [
    "Gravitational force acts on the CG of the inner panel, with magnitude equal to its mass times gravitational acceleration, or:"
   ]
  },
  {
   "cell_type": "code",
   "execution_count": null,
   "metadata": {},
   "outputs": [],
   "source": [
    "innerLoad = innerBody.masscenter, innerBody.mass * gvector\n",
    "dtex(r'\\mathbf{F}_a', innerLoad[1])"
   ]
  },
  {
   "cell_type": "markdown",
   "metadata": {},
   "source": [
    "Similarly for the outer link:"
   ]
  },
  {
   "cell_type": "code",
   "execution_count": null,
   "metadata": {},
   "outputs": [],
   "source": [
    "outerLoad = outerBody.masscenter, outerBody.mass * gvector\n",
    "dtex(r'\\mathbf{F}_b', outerLoad[1])"
   ]
  },
  {
   "cell_type": "markdown",
   "metadata": {},
   "source": [
    "The expected form for the loads to be provided to the equation of motion solver is an iterable-of-iterables.\n",
    "For each of the internal iterables, the first entry is the point or frame on which the load is applied, and the second entry is the load vector."
   ]
  },
  {
   "cell_type": "code",
   "execution_count": null,
   "metadata": {},
   "outputs": [],
   "source": [
    "loads = innerLoad, outerLoad"
   ]
  },
  {
   "cell_type": "markdown",
   "metadata": {},
   "source": [
    "### Equations of Motion\n",
    "\n",
    "A `KanesMethod` object is initialized which contains the internal methods to derive equations of motion using, you guessed it, Kane's method.\n",
    "It is initialized using the inertial frame (in which the equations are derived), and iterables for generalized coordinates, generalized speeds, and kinematic equations.\n",
    "Each of these have already been defined above."
   ]
  },
  {
   "cell_type": "code",
   "execution_count": null,
   "metadata": {},
   "outputs": [],
   "source": [
    "kane = KanesMethod(inertial, q, u, kd)"
   ]
  },
  {
   "cell_type": "markdown",
   "metadata": {},
   "source": [
    "To derive equations, we must call the `.kanes_equations` methods, with the bodies and loads defined above as its arguments.\n",
    "Importantly, the mass matrix and forcing vector will not be available until _after_ this method is called.\n",
    "The output of the method are the external force vector $\\mathbf{F}_r$ and internal force vector $\\mathbf{F}_r^*$. \n",
    "For the double pendulum, these vectors in their simplified form are:"
   ]
  },
  {
   "cell_type": "code",
   "execution_count": null,
   "metadata": {},
   "outputs": [],
   "source": [
    "fr, frstar = kane.kanes_equations(bodies, loads)\n",
    "dtex(r'\\mathbf{F}_r', simplify(fr))\n",
    "dtex(r'\\mathbf{F}_R^*', simplify(frstar))"
   ]
  },
  {
   "cell_type": "markdown",
   "metadata": {},
   "source": [
    "For simulation purposes, we obtain the \"full\" mass matrix and forcing vectors, which for an equation\n",
    "$\\mathbf{M}\\dot{\\mathbf{x}} = \\mathbf{F}$, \n",
    "with the state vector $\\mathbf{x} = \\left( \\theta_a, \\theta_b, \\omega_a, \\omega_b \\right)^T$ containing both generalized coordinates and generalized speeds.\n",
    "In this case, the mass matrix is:"
   ]
  },
  {
   "cell_type": "code",
   "execution_count": null,
   "metadata": {},
   "outputs": [],
   "source": [
    "M = simplify(kane.mass_matrix_full)\n",
    "dtex(r'\\mathbf{M}', M)"
   ]
  },
  {
   "cell_type": "markdown",
   "metadata": {},
   "source": [
    "The forcing vector is:"
   ]
  },
  {
   "cell_type": "code",
   "execution_count": null,
   "metadata": {},
   "outputs": [],
   "source": [
    "F = simplify(kane.forcing_full)\n",
    "dtex(r'\\mathbf{F}', F)"
   ]
  },
  {
   "cell_type": "markdown",
   "metadata": {},
   "source": [
    "## Simulation\n",
    "\n",
    "The double pendulum equations are simulated using an adaptive Runge-Kutta 4/5 (RK45) method, implemented in the `scipy.integrate.solve_ivp` function.\n",
    "Prior to calling this function, the equations of motion must be converted to a function of the form $f(t, x)$, where $t$ is time, and $x$ is a vector of current state values.\n",
    "The resulting states as a function of time are plotted, and then the position trajectories are used to form a graphic used in the _TwoLinks_ icon.\n",
    "\n",
    "### Initial Value Problem (IVP)\n",
    "\n",
    "Two functions are generated to represent the mass matrix, and forcing vector, respectively.\n",
    "To be callable with solely the state vector $x$ as an input, first the `.subs` method is called on the symbolic properties with the `constants` dictionary as the argument, which will substitute numeric values into the equations.\n",
    "Then, the `lambdify` function is called, with the state vector and equations with numeric values as its arguments, which will return a callable function that takes a vector of numeric state values."
   ]
  },
  {
   "cell_type": "code",
   "execution_count": null,
   "metadata": {},
   "outputs": [],
   "source": [
    "massFunction = lambdify(q+u, M.subs(constants))\n",
    "forcingFunction = lambdify(q+u, F.subs(constants))"
   ]
  },
  {
   "cell_type": "markdown",
   "metadata": {},
   "source": [
    "An ordinary differential equation (ODE) function is defined which takes time and state as its inputs.\n",
    "Internal to the function, the mass matrix and forcing vector are calculated using the functions determined above using `lambdify`.\n",
    "Then, the derivatives of the state vector with respect to time are determined from the inverse of the mass matrix times forcing vector, or $\\dot{\\mathbf{x}} = \\mathbf{M}^{-1} \\mathbf{F}$."
   ]
  },
  {
   "cell_type": "code",
   "execution_count": null,
   "metadata": {},
   "outputs": [],
   "source": [
    "def ode(t, x):\n",
    "  mass = massFunction(*x)\n",
    "  force = forcingFunction(*x).flatten()\n",
    "  return np.linalg.solve(mass, force)"
   ]
  },
  {
   "cell_type": "markdown",
   "metadata": {},
   "source": [
    "### Solution\n",
    "\n",
    "The ODE is solved (integrated) using the `solve_ivp` function, where the first argument is the function itself, second is the time span, and third is an iterable of initial states.\n",
    "An optional, relativel tolerance (`rtol`) is used to improve the accuracy of the numerically integrated equation.\n",
    "In this case, this option is invoke to improve the \"smoothness\" of the simulated states, which improves the visual quality."
   ]
  },
  {
   "cell_type": "code",
   "execution_count": null,
   "metadata": {},
   "outputs": [],
   "source": [
    "sol = solve_ivp(ode, [0, 1.75], q0+u0, rtol=1e-9)"
   ]
  },
  {
   "cell_type": "markdown",
   "metadata": {},
   "source": [
    "### Plot Angles and Rates\n",
    "\n",
    "State variables in $\\boldsymbol{q}$ and $\\boldsymbol{u}$ are plotted as a function of time using the `matplotlib.pyplot` library.\n",
    "Slice indexing of the `numpy` arrays is used to partition the simulated states, in this case with `sol.y[:2]` giving the generalized coordinates, and `sol.y[2:]` giving the generalized speeds.\n",
    "Legends are created using a list comprehension taking the name provided to the symbolic form of the states, where placing `f` in front of the string specifies that the variable inside the curly brackets, `{ . }`, is converted to string.\n",
    "Surrounding the string with dollar signs, `$ . $`, will invoke the LaTeX interpreter when generating the legend."
   ]
  },
  {
   "cell_type": "code",
   "execution_count": null,
   "metadata": {},
   "outputs": [],
   "source": [
    "plt.subplot(2, 1, 1);\n",
    "plt.plot(sol.t, sol.y[:2].transpose());\n",
    "plt.ylabel('Angle [rad]');\n",
    "plt.legend([f'${angle}$' for angle in q], ncol=2);\n",
    "\n",
    "plt.subplot(2, 1, 2);\n",
    "plt.plot(sol.t, sol.y[2:].transpose());\n",
    "plt.xlabel('Time [sec]')\n",
    "plt.ylabel('Rate [rad/s]');\n",
    "plt.legend([f'${rate}$' for rate in u], ncol=2);"
   ]
  },
  {
   "cell_type": "markdown",
   "metadata": {},
   "source": [
    "### Plot X-Y Position\n",
    "\n",
    "The _TwoLinks_ icon contains a trajectory plot generated from the positions of the ends of the two links , $a^\\prime$ and $b^\\prime$, as a function of time.\n",
    "\n",
    "... Get positions in matrix form"
   ]
  },
  {
   "cell_type": "code",
   "execution_count": null,
   "metadata": {},
   "outputs": [],
   "source": [
    "innerPosMat = innerEnd.pos_from(origin).to_matrix(inertial)\n",
    "outerPosMat = outerEnd.pos_from(origin).to_matrix(inertial)\n",
    "dtex(r'\\boldsymbol{r}_{a^\\prime}', innerPosMat)\n",
    "dtex(r'\\boldsymbol{r}_{b^\\prime}', outerPosMat)"
   ]
  },
  {
   "cell_type": "markdown",
   "metadata": {},
   "source": [
    "... Get a function for state evaluates"
   ]
  },
  {
   "cell_type": "code",
   "execution_count": null,
   "metadata": {},
   "outputs": [],
   "source": [
    "innerPosFcn = lambdify(q, innerPosMat.subs(constants))\n",
    "outerPosFcn = lambdify(q, outerPosMat.subs(constants))"
   ]
  },
  {
   "cell_type": "markdown",
   "metadata": {},
   "source": [
    "... Get the states as function of time"
   ]
  },
  {
   "cell_type": "code",
   "execution_count": null,
   "metadata": {},
   "outputs": [],
   "source": [
    "qsol = sol.y[:2].transpose()"
   ]
  },
  {
   "cell_type": "markdown",
   "metadata": {},
   "source": [
    "... Evaluate into an array of numbers"
   ]
  },
  {
   "cell_type": "code",
   "execution_count": null,
   "metadata": {},
   "outputs": [],
   "source": [
    "innerPos = np.array([innerPosFcn(*q).flatten() for q in qsol])\n",
    "outerPos = np.array([outerPosFcn(*q).flatten() for q in qsol])"
   ]
  },
  {
   "cell_type": "markdown",
   "metadata": {},
   "source": [
    "... Make the plot"
   ]
  },
  {
   "cell_type": "code",
   "execution_count": null,
   "metadata": {},
   "outputs": [],
   "source": [
    "plt.plot(innerPos[:, 0], innerPos[:, 1]);\n",
    "plt.scatter(outerPos[:, 0], outerPos[:, 1], \n",
    "            s=8*sol.t*3.14, c=sol.t, cmap='rainbow');\n",
    "plt.axis('off');\n",
    "plt.xlim([-0.5, 0.5])\n",
    "plt.tight_layout;"
   ]
  },
  {
   "cell_type": "markdown",
   "metadata": {},
   "source": [
    "... Save to PDF"
   ]
  },
  {
   "cell_type": "code",
   "execution_count": null,
   "metadata": {},
   "outputs": [],
   "source": [
    "plt.savefig('links.pdf')"
   ]
  }
 ],
 "metadata": {
  "kernelspec": {
   "display_name": "Python 3 (ipykernel)",
   "language": "python",
   "name": "python3"
  },
  "language_info": {
   "codemirror_mode": {
    "name": "ipython",
    "version": 3
   },
   "file_extension": ".py",
   "mimetype": "text/x-python",
   "name": "python",
   "nbconvert_exporter": "python",
   "pygments_lexer": "ipython3",
   "version": "3.7.13"
  }
 },
 "nbformat": 4,
 "nbformat_minor": 4
}
