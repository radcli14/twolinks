{
 "cells": [
  {
   "cell_type": "markdown",
   "metadata": {},
   "source": [
    "# Double Trouble Pendulum\n",
    "\n",
    "The `SwiftyTwoLinks` and `KotlyOtlyDobleDosLinks` apps embed a custom motion simulation that solves a systems of dynamic equations for a double pendulum.\n",
    "This Jupyter Notebook demonstrates how those equations may be determined using the `sympy.physics.mechanics` toolkit.\n",
    "Each step of the process including importing required modules, defining symbolic constants and variables, translational and rotational kinematics, deriving equations of motion, and simulating is included.\n",
    "Furthermore, the `matplotlib` visualisation module is used to plot states, and create a plot that is used in the application icon.\n",
    "\n",
    "## Preliminaries\n",
    "\n",
    "The following modules are imported below, with their summary usage:\n",
    " - `sympy` for symbolic algebra\n",
    " - `sympy.physics.mechanics` for kinematics and equation of motion derivation\n",
    " - `scipy.integrate` for simulating the system of differential equations\n",
    " - `numpy` for array manipulation\n",
    " - `IPython.display` for rendering equations\n",
    " - `matplotlib.pyplot` for plotting"
   ]
  },
  {
   "cell_type": "code",
   "execution_count": 1,
   "metadata": {},
   "outputs": [],
   "source": [
    "from sympy import *\n",
    "from sympy.physics.mechanics import *\n",
    "from scipy.integrate import solve_ivp\n",
    "import numpy as np\n",
    "from IPython.display import display, Latex\n",
    "import matplotlib.pyplot as plt"
   ]
  },
  {
   "cell_type": "markdown",
   "metadata": {},
   "source": [
    "The `mechanics_printing()` function is part of `sympy.physics.mechanics`. \n",
    "It reduces verbosity of the typeset equation by eliminateing $(t)$ from time dependent symbolic terms, and representing time-derivatives by an overdot $\\dot{(\\, \\cdot \\,)}$ instead of $\\partial / \\partial t$.\n",
    "Once it is called as a function, as it is below, these conventions will be followed anytime the `display` function is invoked."
   ]
  },
  {
   "cell_type": "code",
   "execution_count": 2,
   "metadata": {},
   "outputs": [],
   "source": [
    "mechanics_printing()"
   ]
  },
  {
   "cell_type": "markdown",
   "metadata": {},
   "source": [
    "A function named `dtex` is defined below that is used to display LaTeX formatted equations, either taking text-formatted inputs that the user defines, or symbolic equations derived by `sympy`.\n",
    "It takes a variable number of arguments, and will place and equals sign between them.\n",
    "Thus its intent is generally that the user may typeset a concise symbol on the left hand side, and the coinciding equation on the right."
   ]
  },
  {
   "cell_type": "code",
   "execution_count": 3,
   "metadata": {},
   "outputs": [],
   "source": [
    "def dtex(*args):\n",
    "    tex = ''\n",
    "    for arg in args:\n",
    "        if isinstance(arg, str):\n",
    "            # Handle string arguments\n",
    "            tex += f'${arg}$ $\\, = \\,$ '\n",
    "        else:\n",
    "            # Handle SymPy arguments\n",
    "            tex += f'${mlatex(arg)}$ $\\, = \\,$ '\n",
    "    \n",
    "    # Trim off the last equals sign\n",
    "    tex = tex[:-10]  \n",
    "    display(Latex(tex))    "
   ]
  },
  {
   "cell_type": "markdown",
   "metadata": {},
   "source": [
    "## Modeling\n",
    "\n",
    "Below the requisite kinematics and equations of motion are developed symbolically.\n",
    "\n",
    "### Create Symbols\n",
    "\n",
    "For a double pendulum, we define two angles, $\\theta_0$ and $\\theta_1$, and two angular rates, $\\omega_0$ and $\\omega_1$, where the index $0$ represents the first link, and the index $1$ represents the second link.\n",
    "In `sympy.physics.mechanics` we create the time-varying states using the `dynamicsymbols` function, with a list of symbolic terms in string form as the argument.\n",
    "The vectors $\\boldsymbol{q}$ and $\\boldsymbol{u}$ represent generalized coordinates and generalized speeds, in radians and radians/sec, respectively, where:"
   ]
  },
  {
   "cell_type": "code",
   "execution_count": 4,
   "metadata": {},
   "outputs": [
    {
     "data": {
      "text/latex": [
       "$\\boldsymbol{q}$ $\\, = \\,$ $\\left[ \\theta_{0}, \\  \\theta_{1}\\right]$ "
      ],
      "text/plain": [
       "<IPython.core.display.Latex object>"
      ]
     },
     "metadata": {},
     "output_type": "display_data"
    },
    {
     "data": {
      "text/latex": [
       "$\\boldsymbol{u}$ $\\, = \\,$ $\\left[ \\omega_{0}, \\  \\omega_{1}\\right]$ "
      ],
      "text/plain": [
       "<IPython.core.display.Latex object>"
      ]
     },
     "metadata": {},
     "output_type": "display_data"
    }
   ],
   "source": [
    "q = dynamicsymbols('\\\\theta_0, \\\\theta_1')  # Generalized coordinates (angles)\n",
    "u = dynamicsymbols('\\\\omega_0, \\\\omega_1')  # Generalized speeds (rates)\n",
    "dtex('\\\\boldsymbol{q}', q)\n",
    "dtex('\\\\boldsymbol{u}', u)"
   ]
  },
  {
   "cell_type": "markdown",
   "metadata": {},
   "source": [
    "Several symbolic constants are defined for the link dimensions, mass, gravity, and time.\n",
    "The $l_k$ symbols denote length, $w_k$ denote width, $m_k$ denote mass, and $I_k$ denote moment of inertia about the axis of rotation evaluated at the link center of gravity (CG).\n"
   ]
  },
  {
   "cell_type": "code",
   "execution_count": 5,
   "metadata": {},
   "outputs": [],
   "source": [
    "l0, w0, l1, w1 = symbols('l_0, w_0, l_1, w_1')  # Lengths and widths\n",
    "m0, m1, I0, I1 = symbols('m_0, m_1, I_0, I_1')  # Masses and inertias\n",
    "x0, x1 = symbols('x_0, x_1')  # Distances from centers of rotation to CGs\n",
    "xp = symbols('x_p')  # Distance from first link to second link center of rotation\n",
    "g, gx, gy = symbols('g, g_x, g_y')  # Gravitational acceleration\n",
    "t = symbols('t')  # Time"
   ]
  },
  {
   "cell_type": "markdown",
   "metadata": {},
   "source": [
    "## Create Initial Values and Constant Values"
   ]
  },
  {
   "cell_type": "code",
   "execution_count": 6,
   "metadata": {},
   "outputs": [],
   "source": [
    "q0 = np.deg2rad(44), np.deg2rad(44)  # radians\n",
    "u0 = 0.0, 0.0  # radians/second\n",
    "constants = {\n",
    "    l0: 0.2,  # Length of first link\n",
    "    w0: 0.0508,  # Width of first link\n",
    "    l1: 0.15,  # Length of second link\n",
    "    w1: 0.0508,  # Width of second link\n",
    "    m0: 0.1,  # Mass of first link\n",
    "    m1: 0.1,  # Mass of second link\n",
    "    I0: 5e-6,  # Moment of inertia of first link\n",
    "    I1: 5e-6,  # Moment of inertia of second link\n",
    "    xp: 0.2,  # Origin to outer pivot\n",
    "    x0: 0.1,  # Origin to inner link CG\n",
    "    x1: 0.075,  # Outer pivot to outer link CG\n",
    "    g: 9.8,\n",
    "    gy: 9.8,\n",
    "    gx: 0.0\n",
    "}"
   ]
  },
  {
   "cell_type": "markdown",
   "metadata": {},
   "source": [
    "## Create Kinematic Equations"
   ]
  },
  {
   "cell_type": "code",
   "execution_count": 7,
   "metadata": {},
   "outputs": [
    {
     "data": {
      "text/latex": [
       "$\\left[\\begin{matrix}0\\\\0\\end{matrix}\\right]$ $\\, = \\,$ $\\left[\\begin{matrix}\\omega_{0} - \\dot{\\theta}_{0}\\\\\\omega_{1} - \\dot{\\theta}_{1}\\end{matrix}\\right]$ "
      ],
      "text/plain": [
       "<IPython.core.display.Latex object>"
      ]
     },
     "metadata": {},
     "output_type": "display_data"
    }
   ],
   "source": [
    "kd = [speed - diff(coord) for coord, speed in zip(q, u)]\n",
    "dtex(Matrix([[0], [0]]), Matrix(kd))"
   ]
  },
  {
   "cell_type": "markdown",
   "metadata": {},
   "source": [
    "## Create Frames"
   ]
  },
  {
   "cell_type": "code",
   "execution_count": 8,
   "metadata": {},
   "outputs": [
    {
     "data": {
      "image/png": "[encoded data removed]",
      "text/latex": [
       "$\\displaystyle \\left[\\begin{matrix}\\operatorname{cos}\\left(\\theta_{1}\\right) & \\operatorname{sin}\\left(\\theta_{1}\\right) & 0\\\\- \\operatorname{sin}\\left(\\theta_{1}\\right) & \\operatorname{cos}\\left(\\theta_{1}\\right) & 0\\\\0 & 0 & 1\\end{matrix}\\right]$"
      ],
      "text/plain": [
       "⎡cos(\\theta₁)   sin(\\theta₁)  0⎤\n",
       "⎢                              ⎥\n",
       "⎢-sin(\\theta₁)  cos(\\theta₁)  0⎥\n",
       "⎢                              ⎥\n",
       "⎣      0             0        1⎦"
      ]
     },
     "metadata": {},
     "output_type": "display_data"
    },
    {
     "data": {
      "image/png": "[encoded data removed]",
      "text/latex": [
       "$\\displaystyle \\omega_{1}\\mathbf{\\hat{n}_z}$"
      ],
      "text/plain": [
       "\\omega₁ n_z"
      ]
     },
     "metadata": {},
     "output_type": "display_data"
    }
   ],
   "source": [
    "inertial = ReferenceFrame('N')\n",
    "\n",
    "innerFrame = inertial.orientnew('A', 'axis', [q[0], inertial.z])\n",
    "outerFrame = inertial.orientnew('B', 'axis', [q[1], inertial.z])\n",
    "\n",
    "innerFrame.set_ang_vel(inertial, u[0] * inertial.z)\n",
    "outerFrame.set_ang_vel(inertial, u[1] * inertial.z)\n",
    "\n",
    "display(outerFrame.dcm(inertial))\n",
    "display(outerFrame.ang_vel_in(inertial))"
   ]
  },
  {
   "cell_type": "markdown",
   "metadata": {},
   "source": [
    "## Create Points"
   ]
  },
  {
   "cell_type": "code",
   "execution_count": 9,
   "metadata": {},
   "outputs": [
    {
     "data": {
      "image/png": "[encoded data removed]",
      "text/latex": [
       "$\\displaystyle x_{0}\\mathbf{\\hat{a}_x}$"
      ],
      "text/plain": [
       "x₀ a_x"
      ]
     },
     "metadata": {},
     "output_type": "display_data"
    },
    {
     "data": {
      "image/png": "[encoded data removed]",
      "text/latex": [
       "$\\displaystyle x_{0} \\omega_{0}\\mathbf{\\hat{a}_y}$"
      ],
      "text/plain": [
       "x₀⋅\\omega₀ a_y"
      ]
     },
     "metadata": {},
     "output_type": "display_data"
    },
    {
     "data": {
      "image/png": "[encoded data removed]",
      "text/latex": [
       "$\\displaystyle x_{1}\\mathbf{\\hat{b}_x} + x_{p}\\mathbf{\\hat{a}_x}$"
      ],
      "text/plain": [
       "x₁ b_x + xₚ a_x"
      ]
     },
     "metadata": {},
     "output_type": "display_data"
    },
    {
     "data": {
      "image/png": "[encoded data removed]",
      "text/latex": [
       "$\\displaystyle x_{p} \\omega_{0}\\mathbf{\\hat{a}_y} + x_{1} \\omega_{1}\\mathbf{\\hat{b}_y}$"
      ],
      "text/plain": [
       "xₚ⋅\\omega₀ a_y + x₁⋅\\omega₁ b_y"
      ]
     },
     "metadata": {},
     "output_type": "display_data"
    },
    {
     "data": {
      "image/png": "[encoded data removed]",
      "text/latex": [
       "$\\displaystyle \\left[\\begin{matrix}x_{1} \\operatorname{cos}\\left(\\theta_{1}\\right) + x_{p} \\operatorname{cos}\\left(\\theta_{0}\\right)\\\\x_{1} \\operatorname{sin}\\left(\\theta_{1}\\right) + x_{p} \\operatorname{sin}\\left(\\theta_{0}\\right)\\\\0\\end{matrix}\\right]$"
      ],
      "text/plain": [
       "⎡x₁⋅cos(\\theta₁) + xₚ⋅cos(\\theta₀)⎤\n",
       "⎢                                 ⎥\n",
       "⎢x₁⋅sin(\\theta₁) + xₚ⋅sin(\\theta₀)⎥\n",
       "⎢                                 ⎥\n",
       "⎣                0                ⎦"
      ]
     },
     "metadata": {},
     "output_type": "display_data"
    }
   ],
   "source": [
    "origin = Point('O')\n",
    "origin.set_vel(inertial, Vector(0))\n",
    "\n",
    "outerPivot = origin.locatenew('P', xp * innerFrame.x)\n",
    "innerCG = origin.locatenew('0', x0 * innerFrame.x)\n",
    "outerCG = outerPivot.locatenew('1', x1 * outerFrame.x)\n",
    "innerEnd = innerCG.locatenew('A', 0.5 * l0 * innerFrame.x)\n",
    "outerEnd = outerCG.locatenew('B', 0.5 * l1 * outerFrame.x)\n",
    "\n",
    "outerPivot.v2pt_theory(origin, inertial, innerFrame)\n",
    "innerCG.v2pt_theory(origin, inertial, innerFrame)\n",
    "outerCG.v2pt_theory(outerPivot, inertial, outerFrame)\n",
    "\n",
    "display(innerCG.pos_from(origin))\n",
    "display(innerCG.vel(inertial))\n",
    "display(outerCG.pos_from(origin))\n",
    "display(outerCG.vel(inertial))\n",
    "display(outerCG.pos_from(origin).to_matrix(inertial))"
   ]
  },
  {
   "cell_type": "markdown",
   "metadata": {},
   "source": [
    "## Create Bodies"
   ]
  },
  {
   "cell_type": "code",
   "execution_count": 10,
   "metadata": {},
   "outputs": [],
   "source": [
    "innerBody = Body('IB', masscenter=innerCG, mass=m0, frame=innerFrame, central_inertia=inertia(innerFrame, 0, 0, I0))\n",
    "outerBody = Body('OB', masscenter=outerCG, mass=m1, frame=outerFrame, central_inertia=inertia(outerFrame, 0, 0, I1))\n",
    "bodies = innerBody, outerBody"
   ]
  },
  {
   "cell_type": "markdown",
   "metadata": {},
   "source": [
    "## Create Gravitational Load"
   ]
  },
  {
   "cell_type": "code",
   "execution_count": 11,
   "metadata": {},
   "outputs": [],
   "source": [
    "gvector = gx * inertial.x - gy * inertial.y\n",
    "loads = [\n",
    "  (innerBody.masscenter, innerBody.mass * gvector),\n",
    "  (outerBody.masscenter, outerBody.mass * gvector)\n",
    "]"
   ]
  },
  {
   "cell_type": "markdown",
   "metadata": {},
   "source": [
    "## Generate Equations of Motion"
   ]
  },
  {
   "cell_type": "code",
   "execution_count": 12,
   "metadata": {},
   "outputs": [
    {
     "data": {
      "text/latex": [
       "$\\left[\\begin{matrix}- \\left(g_{x} \\operatorname{sin}\\left(\\theta_{0}\\right) + g_{y} \\operatorname{cos}\\left(\\theta_{0}\\right)\\right) \\left(m_{0} x_{0} + m_{1} x_{p}\\right)\\\\- m_{1} x_{1} \\left(g_{x} \\operatorname{sin}\\left(\\theta_{1}\\right) + g_{y} \\operatorname{cos}\\left(\\theta_{1}\\right)\\right)\\end{matrix}\\right]$ $\\, = \\,$ $\\left[\\begin{matrix}- m_{1} x_{1} x_{p} \\omega^{2}_{1} \\operatorname{sin}\\left(\\theta_{0} - \\theta_{1}\\right) - m_{1} x_{1} x_{p} \\operatorname{cos}\\left(\\theta_{0} - \\theta_{1}\\right) \\dot{\\omega}_{1} - \\left(I_{0} + m_{0} x_{0}^{2} + m_{1} x_{p}^{2}\\right) \\dot{\\omega}_{0}\\\\m_{1} x_{1} x_{p} \\omega^{2}_{0} \\operatorname{sin}\\left(\\theta_{0} - \\theta_{1}\\right) - m_{1} x_{1} x_{p} \\operatorname{cos}\\left(\\theta_{0} - \\theta_{1}\\right) \\dot{\\omega}_{0} - \\left(I_{1} + m_{1} x_{1}^{2}\\right) \\dot{\\omega}_{1}\\end{matrix}\\right]$ "
      ],
      "text/plain": [
       "<IPython.core.display.Latex object>"
      ]
     },
     "metadata": {},
     "output_type": "display_data"
    }
   ],
   "source": [
    "kane = KanesMethod(inertial, q, u, kd)\n",
    "fr, frstar = kane.kanes_equations(bodies, loads)\n",
    "dtex(simplify(fr), simplify(frstar))"
   ]
  },
  {
   "cell_type": "markdown",
   "metadata": {},
   "source": [
    "## Get the Simplified Mass Matrix"
   ]
  },
  {
   "cell_type": "code",
   "execution_count": 13,
   "metadata": {},
   "outputs": [
    {
     "data": {
      "image/png": "[encoded data removed]",
      "text/latex": [
       "$\\displaystyle \\left[\\begin{matrix}1 & 0 & 0 & 0\\\\0 & 1 & 0 & 0\\\\0 & 0 & I_{0} + m_{0} x_{0}^{2} + m_{1} x_{p}^{2} & m_{1} x_{1} x_{p} \\operatorname{cos}\\left(\\theta_{0} - \\theta_{1}\\right)\\\\0 & 0 & m_{1} x_{1} x_{p} \\operatorname{cos}\\left(\\theta_{0} - \\theta_{1}\\right) & I_{1} + m_{1} x_{1}^{2}\\end{matrix}\\right]$"
      ],
      "text/plain": [
       "⎡1  0                 0                                0               ⎤\n",
       "⎢                                                                      ⎥\n",
       "⎢0  1                 0                                0               ⎥\n",
       "⎢                                                                      ⎥\n",
       "⎢                     2        2                                       ⎥\n",
       "⎢0  0       I₀ + m₀⋅x₀  + m₁⋅xₚ         m₁⋅x₁⋅xₚ⋅cos(\\theta₀ - \\theta₁)⎥\n",
       "⎢                                                                      ⎥\n",
       "⎢                                                           2          ⎥\n",
       "⎣0  0  m₁⋅x₁⋅xₚ⋅cos(\\theta₀ - \\theta₁)            I₁ + m₁⋅x₁           ⎦"
      ]
     },
     "metadata": {},
     "output_type": "display_data"
    }
   ],
   "source": [
    "M = simplify(kane.mass_matrix_full)\n",
    "display(M)"
   ]
  },
  {
   "cell_type": "markdown",
   "metadata": {},
   "source": [
    "## Get the Simplified Forcing Vector"
   ]
  },
  {
   "cell_type": "code",
   "execution_count": 14,
   "metadata": {},
   "outputs": [
    {
     "data": {
      "image/png": "[encoded data removed]",
      "text/latex": [
       "$\\displaystyle \\left[\\begin{matrix}\\omega_{0}\\\\\\omega_{1}\\\\- g_{x} m_{0} x_{0} \\operatorname{sin}\\left(\\theta_{0}\\right) - g_{x} m_{1} x_{p} \\operatorname{sin}\\left(\\theta_{0}\\right) - g_{y} m_{0} x_{0} \\operatorname{cos}\\left(\\theta_{0}\\right) - g_{y} m_{1} x_{p} \\operatorname{cos}\\left(\\theta_{0}\\right) - m_{1} x_{1} x_{p} \\omega^{2}_{1} \\operatorname{sin}\\left(\\theta_{0} - \\theta_{1}\\right)\\\\m_{1} x_{1} \\left(- g_{x} \\operatorname{sin}\\left(\\theta_{1}\\right) - g_{y} \\operatorname{cos}\\left(\\theta_{1}\\right) + x_{p} \\omega^{2}_{0} \\operatorname{sin}\\left(\\theta_{0} - \\theta_{1}\\right)\\right)\\end{matrix}\\right]$"
      ],
      "text/plain": [
       "⎡                                                                  \\omega₀    \n",
       "⎢                                                                             \n",
       "⎢                                                                  \\omega₁    \n",
       "⎢                                                                             \n",
       "⎢                                                                             \n",
       "⎢-gₓ⋅m₀⋅x₀⋅sin(\\theta₀) - gₓ⋅m₁⋅xₚ⋅sin(\\theta₀) - g_y⋅m₀⋅x₀⋅cos(\\theta₀) - g_y\n",
       "⎢                                                                             \n",
       "⎢                                   ⎛                                         \n",
       "⎣                             m₁⋅x₁⋅⎝-gₓ⋅sin(\\theta₁) - g_y⋅cos(\\theta₁) + xₚ⋅\n",
       "\n",
       "                                                              ⎤\n",
       "                                                              ⎥\n",
       "                                                              ⎥\n",
       "                                                              ⎥\n",
       "                                      2                       ⎥\n",
       "⋅m₁⋅xₚ⋅cos(\\theta₀) - m₁⋅x₁⋅xₚ⋅\\omega₁ ⋅sin(\\theta₀ - \\theta₁)⎥\n",
       "                                                              ⎥\n",
       "       2                       ⎞                              ⎥\n",
       "\\omega₀ ⋅sin(\\theta₀ - \\theta₁)⎠                              ⎦"
      ]
     },
     "metadata": {},
     "output_type": "display_data"
    }
   ],
   "source": [
    "F = simplify(kane.forcing_full)\n",
    "display(F)"
   ]
  },
  {
   "cell_type": "markdown",
   "metadata": {},
   "source": [
    "## Create the Initial Value Problem (IVP)"
   ]
  },
  {
   "cell_type": "code",
   "execution_count": 15,
   "metadata": {},
   "outputs": [],
   "source": [
    "massFunction = lambdify(q+u, M.subs(constants))\n",
    "forcingFunction = lambdify(q+u, F.subs(constants))\n",
    "def fun(t, x):\n",
    "  mass = massFunction(*x)\n",
    "  force = forcingFunction(*x)\n",
    "  dxdt = np.linalg.inv(mass) @ force\n",
    "  return dxdt[:, 0].tolist()"
   ]
  },
  {
   "cell_type": "markdown",
   "metadata": {},
   "source": [
    "## Solve the IVP"
   ]
  },
  {
   "cell_type": "code",
   "execution_count": 16,
   "metadata": {},
   "outputs": [],
   "source": [
    "sol = solve_ivp(fun, [0, 1.75], q0+u0, rtol=1e-9)"
   ]
  },
  {
   "cell_type": "markdown",
   "metadata": {},
   "source": [
    "## Plot Angles and Rates"
   ]
  },
  {
   "cell_type": "code",
   "execution_count": 17,
   "metadata": {},
   "outputs": [
    {
     "data": {
      "image/png": "[encoded data removed]",
      "text/plain": [
       "<Figure size 432x288 with 2 Axes>"
      ]
     },
     "metadata": {
      "needs_background": "light"
     },
     "output_type": "display_data"
    }
   ],
   "source": [
    "plt.subplot(2, 1, 1);\n",
    "plt.plot(sol.t, sol.y[:2].transpose());\n",
    "plt.ylabel('Angle [rad]');\n",
    "plt.legend([f'${angle}$' for angle in q], ncol=2);\n",
    "\n",
    "plt.subplot(2, 1, 2);\n",
    "plt.plot(sol.t, sol.y[2:].transpose());\n",
    "plt.xlabel('Time [sec]')\n",
    "plt.ylabel('Rate [rad/s]');\n",
    "plt.legend([f'${rate}$' for rate in u], ncol=2);"
   ]
  },
  {
   "cell_type": "markdown",
   "metadata": {},
   "source": [
    "## Plot X-Y Position"
   ]
  },
  {
   "cell_type": "code",
   "execution_count": 18,
   "metadata": {},
   "outputs": [
    {
     "data": {
      "image/png": "[encoded data removed]",
      "text/plain": [
       "<Figure size 432x288 with 1 Axes>"
      ]
     },
     "metadata": {
      "needs_background": "light"
     },
     "output_type": "display_data"
    }
   ],
   "source": [
    "innerPosFcn = lambdify(q, innerEnd.pos_from(origin).to_matrix(inertial).transpose().subs(constants).tolist()[0])\n",
    "outerPosFcn = lambdify(q, outerEnd.pos_from(origin).to_matrix(inertial).transpose().subs(constants).tolist()[0])\n",
    "\n",
    "innerPos = np.array([innerPosFcn(*q) for q in sol.y[:2].transpose()])\n",
    "outerPos = np.array([outerPosFcn(*q) for q in sol.y[:2].transpose()])\n",
    "\n",
    "plt.plot(innerPos[:, 0], innerPos[:, 1]);\n",
    "plt.scatter(outerPos[:, 0], outerPos[:, 1], \n",
    "            s=8*sol.t*3.14, c=sol.t, cmap='rainbow');\n",
    "plt.axis('off');\n",
    "plt.xlim([-0.5, 0.5])\n",
    "plt.tight_layout;\n",
    "\n",
    "plt.savefig('links.pdf')"
   ]
  }
 ],
 "metadata": {
  "kernelspec": {
   "display_name": "Python 3",
   "language": "python",
   "name": "python3"
  },
  "language_info": {
   "codemirror_mode": {
    "name": "ipython",
    "version": 3
   },
   "file_extension": ".py",
   "mimetype": "text/x-python",
   "name": "python",
   "nbconvert_exporter": "python",
   "pygments_lexer": "ipython3",
   "version": "3.7.3"
  }
 },
 "nbformat": 4,
 "nbformat_minor": 4
}
