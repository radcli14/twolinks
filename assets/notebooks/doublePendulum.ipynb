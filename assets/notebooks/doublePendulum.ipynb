{
 "cells": [
  {
   "cell_type": "markdown",
   "metadata": {},
   "source": [
    "# Double Trouble Pendulum\n",
    "\n",
    "The `SwiftyTwoLinks` and `KotlyOtlyDobleDosLinks` apps, or _TwoLinks_ in short, embed a custom motion simulation that solves a systems of dynamic equations for a double pendulum.\n",
    "This Jupyter Notebook demonstrates how those equations may be determined using the `sympy.physics.mechanics` toolkit.\n",
    "Each step of the process including importing required modules, defining symbolic constants and variables, defining translational and rotational kinematics, deriving equations of motion, and simulating is included.\n",
    "Furthermore, the `matplotlib` visualisation module is used to plot states, and create a plot that is used in the application icon.\n",
    "\n",
    "## Preliminaries\n",
    "\n",
    "The following modules are imported below, with their summary usage:\n",
    " - `sympy` for symbolic algebra\n",
    " - `sympy.physics.mechanics` for kinematics and equation of motion derivation\n",
    " - `scipy.integrate` for simulating the system of differential equations\n",
    " - `numpy` for array manipulation\n",
    " - `IPython.display` for rendering equations\n",
    " - `matplotlib.pyplot` for plotting"
   ]
  },
  {
   "cell_type": "code",
   "execution_count": null,
   "metadata": {},
   "outputs": [],
   "source": [
    "from sympy import *\n",
    "from sympy.physics.mechanics import *\n",
    "from scipy.integrate import solve_ivp\n",
    "import numpy as np\n",
    "from IPython.display import display, Latex\n",
    "import matplotlib.pyplot as plt"
   ]
  },
  {
   "cell_type": "markdown",
   "metadata": {},
   "source": [
    "The `mechanics_printing()` function is part of `sympy.physics.mechanics`. \n",
    "It reduces verbosity of the typeset equation by eliminating $(t)$ from time dependent symbolic terms, and representing time-derivatives by an overdot $\\dot{(\\, \\,)}$ instead of $\\partial / \\partial t$.\n",
    "Once it is called as a function, as it is below, these conventions will be followed anytime the `display` function is invoked."
   ]
  },
  {
   "cell_type": "code",
   "execution_count": null,
   "metadata": {},
   "outputs": [],
   "source": [
    "mechanics_printing()"
   ]
  },
  {
   "cell_type": "markdown",
   "metadata": {},
   "source": [
    "The function `dtex` is defined below to display LaTeX formatted equations with an equals sign separating left and right hand sides, either taking text-formatted inputs that the user defines, or symbolic equations derived by `sympy`.\n",
    "Its intent is generally that the user may typeset a concise symbol on the left hand side, and the coinciding equation on the right.\n",
    "It takes a variable number of arguments."
   ]
  },
  {
   "cell_type": "code",
   "execution_count": null,
   "metadata": {},
   "outputs": [],
   "source": [
    "def dtex(*args):\n",
    "    tex = ''\n",
    "    for arg in args:\n",
    "        if isinstance(arg, str):\n",
    "            # Handle string arguments\n",
    "            tex += f'${arg}$ $\\, = \\,$ '\n",
    "        else:\n",
    "            # Handle SymPy arguments\n",
    "            tex += f'${mlatex(arg)}$ $\\, = \\,$ '\n",
    "    \n",
    "    # Trim off the last equals sign\n",
    "    tex = tex[:-10]  \n",
    "    display(Latex(tex))    "
   ]
  },
  {
   "cell_type": "code",
   "execution_count": null,
   "metadata": {},
   "outputs": [],
   "source": []
  },
  {
   "cell_type": "markdown",
   "metadata": {},
   "source": [
    "## Modeling\n",
    "\n",
    "Below the requisite kinematics and equations of motion are developed symbolically.\n",
    "\n",
    "### Symbols\n",
    "\n",
    "For a double pendulum, we define two angles, $\\theta_a$ and $\\theta_b$, and two angular rates, $\\omega_a$ and $\\omega_b$, where the index $a$ represents the first link, and the index $b$ represents the second link.\n",
    "In `sympy.physics.mechanics` we create the time-varying states using the `dynamicsymbols` function, with a list of symbolic terms in string form as the argument.\n",
    "The vectors $\\boldsymbol{q}$ and $\\boldsymbol{u}$ represent generalized coordinates and generalized speeds, in radians and radians/sec, respectively.\n",
    "For rendering symbols, LaTeX syntax may be used to specify greek characters, in this case `\\theta` and `\\omega` for $\\theta$ and $\\omega$, with the character `r` for \"raw\" placed in front of the string to prevent the `\\` from acting as an escaping character."
   ]
  },
  {
   "cell_type": "code",
   "execution_count": null,
   "metadata": {},
   "outputs": [],
   "source": [
    "q = dynamicsymbols(r'\\theta_a \\theta_b')\n",
    "u = dynamicsymbols(r'\\omega_a \\omega_b')\n",
    "dtex(r'\\boldsymbol{q}', q)\n",
    "dtex(r'\\boldsymbol{u}', u)"
   ]
  },
  {
   "cell_type": "markdown",
   "metadata": {},
   "source": [
    "Initial values are given to these coordinates and speeds to be used in the simulation that follows at the end of the notebook.\n",
    "In this case, the setup is for the links to be initially held stationary at near vertical angle, then dropped with initially zero angular velocity."
   ]
  },
  {
   "cell_type": "code",
   "execution_count": null,
   "metadata": {},
   "outputs": [],
   "source": [
    "q0 = np.deg2rad(44), np.deg2rad(44)\n",
    "u0 = 0.0, 0.0"
   ]
  },
  {
   "cell_type": "markdown",
   "metadata": {},
   "source": [
    "Several symbolic constants are defined for the link dimensions, mass, gravity, and time.\n",
    "The $l_k$ symbols denote length, $m_k$ denote mass, and $I_k$ denote moment of inertia about the axis of rotation evaluated at the link center of gravity (CG).\n",
    "The dimensions $x_a$ and $x_b$ represent distances from the centers of rotation for each link to their respective CG, and the dimension $x_p$ is the distance between the two centers of rotation.\n",
    "Gravitational acceleration is given by $g_x$ and $g_y$ which are given relative to the fixed inertial frame.\n",
    "Notably, these values are replaced in _TwoLinks_ by measurements from the device's internal accelerometer."
   ]
  },
  {
   "cell_type": "code",
   "execution_count": null,
   "metadata": {},
   "outputs": [],
   "source": [
    "la, lb = symbols('l_a l_b')\n",
    "ma, mb = symbols('m_a m_b')\n",
    "Ia, Ib = symbols('I_a I_b')\n",
    "xa, xb, xp = symbols('x_a x_b x_p')\n",
    "gx, gy = symbols('g_x g_y')"
   ]
  },
  {
   "cell_type": "markdown",
   "metadata": {},
   "source": [
    "Each constant defined above will be substituted with a numeric value prior to the simulation.\n",
    "The `.subs` method that can be applied to any symbolic equation in `sympy` can take a dictionary as an argument, in which each key in the dictionary will be replaced with its corresponding value.\n",
    "Note that the keys themselves are the symbols defined above."
   ]
  },
  {
   "cell_type": "code",
   "execution_count": null,
   "metadata": {},
   "outputs": [],
   "source": [
    "constants = {\n",
    "    la: 0.2,\n",
    "    lb: 0.15,\n",
    "    ma: 0.1,\n",
    "    mb: 0.1,\n",
    "    Ia: 5e-6,\n",
    "    Ib: 5e-6,\n",
    "    xa: 0.1,\n",
    "    xb: 0.075,\n",
    "    xp: 0.2,\n",
    "    gy: -9.8,\n",
    "    gx: 0.0\n",
    "}"
   ]
  },
  {
   "cell_type": "markdown",
   "metadata": {},
   "source": [
    "### Kinematic Equations\n",
    "\n",
    "`sympy` convention for solvers in the case of systems of equations is to rearrange such that you have vector of equations set equal to zero.\n",
    "For dynamics system modeling, the implementation of Kane's method requires that such a condition is defined that relates the generalized coordinates to the generalized speeds.\n",
    "In this case, the generalized speeds, $\\omega_k$, are simply the derivative with respect to time of the generalized coordinates, or $\\dot{\\omega}_k$.\n",
    "These are referred to as the kinematic equations, which are defined below using a Python list comprehension, with a loop defined over the lists of coordinates and speeds, with the `zip` function used to specify that the two lists will be looped simultaneously."
   ]
  },
  {
   "cell_type": "code",
   "execution_count": null,
   "metadata": {},
   "outputs": [],
   "source": [
    "kd = [speed - diff(coord) for coord, speed in zip(q, u)]\n",
    "dtex(Matrix([[0], [0]]), Matrix(kd))"
   ]
  },
  {
   "cell_type": "markdown",
   "metadata": {},
   "source": [
    "## Frames\n",
    "\n",
    "The inertial reference frame is defined from which all subsequent frames will be referenced."
   ]
  },
  {
   "cell_type": "code",
   "execution_count": null,
   "metadata": {},
   "outputs": [],
   "source": [
    "inertial = ReferenceFrame('N')"
   ]
  },
  {
   "cell_type": "markdown",
   "metadata": {},
   "source": [
    "... Define the inner frame"
   ]
  },
  {
   "cell_type": "code",
   "execution_count": null,
   "metadata": {},
   "outputs": [],
   "source": [
    "innerFrame = inertial.orientnew('A', 'axis', [q[0], inertial.z])\n",
    "innerFrame.set_ang_vel(inertial, u[0] * inertial.z)"
   ]
  },
  {
   "cell_type": "markdown",
   "metadata": {},
   "source": [
    "... Define the outer frame"
   ]
  },
  {
   "cell_type": "code",
   "execution_count": null,
   "metadata": {},
   "outputs": [],
   "source": [
    "outerFrame = inertial.orientnew('B', 'axis', [q[1], inertial.z])\n",
    "outerFrame.set_ang_vel(inertial, u[1] * inertial.z)\n",
    "\n",
    "display(outerFrame.dcm(inertial))\n",
    "display(outerFrame.ang_vel_in(inertial))"
   ]
  },
  {
   "cell_type": "markdown",
   "metadata": {},
   "source": [
    "## Create Points"
   ]
  },
  {
   "cell_type": "code",
   "execution_count": null,
   "metadata": {},
   "outputs": [],
   "source": [
    "origin = Point('O')\n",
    "origin.set_vel(inertial, Vector(0))\n",
    "\n",
    "outerPivot = origin.locatenew('P', xp * innerFrame.x)\n",
    "innerCG = origin.locatenew('A', xa * innerFrame.x)\n",
    "outerCG = outerPivot.locatenew('B', xb * outerFrame.x)\n",
    "innerEnd = innerCG.locatenew('A^\\prime', 0.5 * la * innerFrame.x)\n",
    "outerEnd = outerCG.locatenew('B^\\prime', 0.5 * lb * outerFrame.x)\n",
    "\n",
    "outerPivot.v2pt_theory(origin, inertial, innerFrame)\n",
    "innerCG.v2pt_theory(origin, inertial, innerFrame)\n",
    "outerCG.v2pt_theory(outerPivot, inertial, outerFrame)\n",
    "\n",
    "display(innerCG.pos_from(origin))\n",
    "display(innerCG.vel(inertial))\n",
    "display(outerCG.pos_from(origin))\n",
    "display(outerCG.vel(inertial))\n",
    "display(outerCG.pos_from(origin).to_matrix(inertial))\n",
    "display(outerCG.acc(inertial))"
   ]
  },
  {
   "cell_type": "markdown",
   "metadata": {},
   "source": [
    "## Create Bodies"
   ]
  },
  {
   "cell_type": "code",
   "execution_count": null,
   "metadata": {},
   "outputs": [],
   "source": [
    "innerBody = Body('A', masscenter=innerCG, mass=ma, frame=innerFrame, central_inertia=inertia(innerFrame, 0, 0, Ia))\n",
    "outerBody = Body('B', masscenter=outerCG, mass=mb, frame=outerFrame, central_inertia=inertia(outerFrame, 0, 0, Ib))\n",
    "bodies = innerBody, outerBody"
   ]
  },
  {
   "cell_type": "markdown",
   "metadata": {},
   "source": [
    "## Create Gravitational Load"
   ]
  },
  {
   "cell_type": "code",
   "execution_count": null,
   "metadata": {},
   "outputs": [],
   "source": [
    "gvector = gx * inertial.x + gy * inertial.y\n",
    "loads = [\n",
    "  (innerBody.masscenter, innerBody.mass * gvector),\n",
    "  (outerBody.masscenter, outerBody.mass * gvector)\n",
    "]"
   ]
  },
  {
   "cell_type": "markdown",
   "metadata": {},
   "source": [
    "## Generate Equations of Motion"
   ]
  },
  {
   "cell_type": "code",
   "execution_count": null,
   "metadata": {},
   "outputs": [],
   "source": [
    "kane = KanesMethod(inertial, q, u, kd)\n",
    "fr, frstar = kane.kanes_equations(bodies, loads)\n",
    "dtex(r'\\boldsymbol{F}_r', simplify(fr))\n",
    "dtex(r'\\boldsymbol{F}_R^*', simplify(frstar))"
   ]
  },
  {
   "cell_type": "markdown",
   "metadata": {},
   "source": [
    "## Get the Simplified Mass Matrix"
   ]
  },
  {
   "cell_type": "code",
   "execution_count": null,
   "metadata": {},
   "outputs": [],
   "source": [
    "M = simplify(kane.mass_matrix_full)\n",
    "dtex(r'\\mathbf{M}', M)"
   ]
  },
  {
   "cell_type": "markdown",
   "metadata": {},
   "source": [
    "## Get the Simplified Forcing Vector"
   ]
  },
  {
   "cell_type": "code",
   "execution_count": null,
   "metadata": {},
   "outputs": [],
   "source": [
    "F = simplify(kane.forcing_full)\n",
    "dtex(r'\\mathbf{F}', F)"
   ]
  },
  {
   "cell_type": "markdown",
   "metadata": {},
   "source": [
    "## Create the Initial Value Problem (IVP)"
   ]
  },
  {
   "cell_type": "code",
   "execution_count": null,
   "metadata": {},
   "outputs": [],
   "source": [
    "massFunction = lambdify(q+u, M.subs(constants))\n",
    "forcingFunction = lambdify(q+u, F.subs(constants))\n",
    "def fun(t, x):\n",
    "  mass = massFunction(*x)\n",
    "  force = forcingFunction(*x)\n",
    "  dxdt = np.linalg.inv(mass) @ force\n",
    "  return dxdt[:, 0].tolist()"
   ]
  },
  {
   "cell_type": "markdown",
   "metadata": {},
   "source": [
    "## Solve the IVP"
   ]
  },
  {
   "cell_type": "code",
   "execution_count": null,
   "metadata": {},
   "outputs": [],
   "source": [
    "sol = solve_ivp(fun, [0, 1.75], q0+u0, rtol=1e-9)"
   ]
  },
  {
   "cell_type": "markdown",
   "metadata": {},
   "source": [
    "## Plot Angles and Rates"
   ]
  },
  {
   "cell_type": "code",
   "execution_count": null,
   "metadata": {},
   "outputs": [],
   "source": [
    "plt.subplot(2, 1, 1);\n",
    "plt.plot(sol.t, sol.y[:2].transpose());\n",
    "plt.ylabel('Angle [rad]');\n",
    "plt.legend([f'${angle}$' for angle in q], ncol=2);\n",
    "\n",
    "plt.subplot(2, 1, 2);\n",
    "plt.plot(sol.t, sol.y[2:].transpose());\n",
    "plt.xlabel('Time [sec]')\n",
    "plt.ylabel('Rate [rad/s]');\n",
    "plt.legend([f'${rate}$' for rate in u], ncol=2);"
   ]
  },
  {
   "cell_type": "markdown",
   "metadata": {},
   "source": [
    "## Plot X-Y Position"
   ]
  },
  {
   "cell_type": "code",
   "execution_count": null,
   "metadata": {},
   "outputs": [],
   "source": [
    "innerPosFcn = lambdify(q, innerEnd.pos_from(origin).to_matrix(inertial).transpose().subs(constants).tolist()[0])\n",
    "outerPosFcn = lambdify(q, outerEnd.pos_from(origin).to_matrix(inertial).transpose().subs(constants).tolist()[0])\n",
    "\n",
    "innerPos = np.array([innerPosFcn(*q) for q in sol.y[:2].transpose()])\n",
    "outerPos = np.array([outerPosFcn(*q) for q in sol.y[:2].transpose()])\n",
    "\n",
    "plt.plot(innerPos[:, 0], innerPos[:, 1]);\n",
    "plt.scatter(outerPos[:, 0], outerPos[:, 1], \n",
    "            s=8*sol.t*3.14, c=sol.t, cmap='rainbow');\n",
    "plt.axis('off');\n",
    "plt.xlim([-0.5, 0.5])\n",
    "plt.tight_layout;\n",
    "\n",
    "plt.savefig('links.pdf')"
   ]
  },
  {
   "cell_type": "code",
   "execution_count": null,
   "metadata": {},
   "outputs": [],
   "source": []
  }
 ],
 "metadata": {
  "kernelspec": {
   "display_name": "Python 3",
   "language": "python",
   "name": "python3"
  },
  "language_info": {
   "codemirror_mode": {
    "name": "ipython",
    "version": 3
   },
   "file_extension": ".py",
   "mimetype": "text/x-python",
   "name": "python",
   "nbconvert_exporter": "python",
   "pygments_lexer": "ipython3",
   "version": "3.7.3"
  }
 },
 "nbformat": 4,
 "nbformat_minor": 4
}
